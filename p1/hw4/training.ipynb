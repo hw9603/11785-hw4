{
 "cells": [
  {
   "cell_type": "code",
   "execution_count": 1,
   "metadata": {},
   "outputs": [],
   "source": [
    "%matplotlib inline\n",
    "\n",
    "import numpy as np\n",
    "from matplotlib import pyplot as plt\n",
    "import time\n",
    "import os\n",
    "import torch\n",
    "import torch.nn as nn\n",
    "from torch.autograd import Variable\n",
    "from torch.utils.data import Dataset, DataLoader\n",
    "from tests import test_prediction, test_generation"
   ]
  },
  {
   "cell_type": "code",
   "execution_count": 2,
   "metadata": {},
   "outputs": [],
   "source": [
    "# load all that we need\n",
    "\n",
    "dataset = np.load('../dataset/wiki.train.npy')\n",
    "\n",
    "fixtures_pred = np.load('../fixtures/prediction.npz')  # dev\n",
    "fixtures_gen = np.load('../fixtures/generation.npy')  # dev\n",
    "fixtures_pred_test = np.load('../fixtures/prediction_test.npz')  # test\n",
    "fixtures_gen_test = np.load('../fixtures/generation_test.npy')  # test\n",
    "vocab = np.load('../dataset/vocab.npy')"
   ]
  },
  {
   "cell_type": "code",
   "execution_count": 3,
   "metadata": {},
   "outputs": [],
   "source": [
    "# data loader\n",
    "\n",
    "\n",
    "class LanguageModelDataLoader(DataLoader):\n",
    "    \"\"\"\n",
    "        TODO: Define data loader logic here\n",
    "    \"\"\"\n",
    "    def __init__(self, dataset, batch_size, shuffle=True):\n",
    "        # super(LanguageModelDataLoader, self).__init__()\n",
    "        self.dataset = dataset\n",
    "        self.batch_size = batch_size\n",
    "        self.shuffle = shuffle\n",
    "\n",
    "    def __iter__(self):\n",
    "        # concatenate your articles and build into batches\n",
    "        \n",
    "        # Step 1: Randomly shuffle all the articles from the WikiText-2 dataset.\n",
    "        if self.shuffle:\n",
    "            np.random.shuffle(self.dataset)\n",
    "        # Step 2: Concatenate all text in one long string.\n",
    "        all_text = np.concatenate(self.dataset, axis=0)\n",
    "        # Step 3: Run a loop that returns a tuple of (input, label) on every iteration with yield.\n",
    "        num_batch = (len(all_text) - 1) // self.batch_size\n",
    "        print(\"num_batch:\", num_batch)\n",
    "        x = torch.from_numpy(all_text[:self.batch_size * num_batch].reshape(self.batch_size, -1).T).long()\n",
    "        y = torch.from_numpy(all_text[1:self.batch_size * num_batch + 1].reshape(self.batch_size, -1).T).long()\n",
    "        \n",
    "        batch_idx = 0\n",
    "        # Same setting as in the paper\n",
    "        seq = 70\n",
    "        prob = 0.95\n",
    "        s = 5\n",
    "        while batch_idx < num_batch:\n",
    "            p = np.random.uniform(0, 1)\n",
    "            base_seq = seq if p < prob else seq / 2\n",
    "            length = int(np.random.normal(base_seq, s))\n",
    "            x_batch = x[batch_idx: batch_idx + length]\n",
    "            y_batch = y[batch_idx: batch_idx + length]\n",
    "            batch_idx += length\n",
    "            yield x_batch, y_batch\n"
   ]
  },
  {
   "cell_type": "code",
   "execution_count": 4,
   "metadata": {},
   "outputs": [],
   "source": [
    "# model\n",
    "\n",
    "\n",
    "class LanguageModel(nn.Module):\n",
    "    \"\"\"\n",
    "        TODO: Define your model here\n",
    "    \"\"\"\n",
    "    def __init__(self, vocab_size):\n",
    "        super(LanguageModel, self).__init__()\n",
    "        self.vocab_size = vocab_size\n",
    "        self.embed_size = 400\n",
    "        self.hidden_size = 1150\n",
    "        self.num_layers = 3\n",
    "        self.embedding = nn.Embedding(self.vocab_size, self.embed_size)\n",
    "        self.rnn = nn.LSTM(input_size=self.embed_size, hidden_size=self.hidden_size, num_layers=self.num_layers)\n",
    "        self.scoring = nn.Linear(self.hidden_size, vocab_size)\n",
    "        self.init_weights()\n",
    "\n",
    "    def forward(self, x):\n",
    "        # Feel free to add extra arguments to forward (like an argument to pass in the hiddens)\n",
    "        batch_size = x.shape[1]\n",
    "        embed = self.embedding(x)\n",
    "        hidden = None\n",
    "        output_lstm, hidden = self.rnn(embed, hidden)\n",
    "        output_lstm_flatten = output_lstm.view(-1, self.hidden_size)\n",
    "        output_flatten = self.scoring(output_lstm_flatten)\n",
    "        return output_flatten.view(-1, batch_size, self.vocab_size)\n",
    "\n",
    "    def init_weights(self):\n",
    "        for m in self.modules():\n",
    "            if type(m) == nn.Embedding:\n",
    "                nn.init.uniform_(m.weight.data, a=-0.1, b=0.1)\n",
    "            elif type(m) == nn.LSTM:\n",
    "                nn.init.uniform_(m.weight_hh_l0, a=-1/np.sqrt(self.hidden_size), b=1/np.sqrt(self.hidden_size))"
   ]
  },
  {
   "cell_type": "code",
   "execution_count": null,
   "metadata": {},
   "outputs": [],
   "source": [
    "# model trainer\n",
    "\n",
    "\n",
    "class LanguageModelTrainer:\n",
    "    def __init__(self, model, loader, max_epochs=1, run_id='exp'):\n",
    "        \"\"\"\n",
    "            Use this class to train your model\n",
    "        \"\"\"\n",
    "        # feel free to add any other parameters here\n",
    "        self.model = model.to(DEVICE)\n",
    "        self.loader = loader\n",
    "        self.train_losses = []\n",
    "        self.val_losses = []\n",
    "        self.predictions = []\n",
    "        self.predictions_test = []\n",
    "        self.generated_logits = []\n",
    "        self.generated = []\n",
    "        self.generated_logits_test = []\n",
    "        self.generated_test = []\n",
    "        self.epochs = 0\n",
    "        self.max_epochs = max_epochs\n",
    "        self.run_id = run_id\n",
    "        \n",
    "        # TODO: Define your optimizer and criterion here\n",
    "        self.optimizer = torch.optim.Adam(model.parameters(), lr=1e-3, weight_decay=1e-6)\n",
    "        self.criterion = nn.CrossEntropyLoss()\n",
    "\n",
    "    def train(self):\n",
    "        self.model.train()  # set to training mode\n",
    "        epoch_loss = 0\n",
    "        num_batches = 0\n",
    "        print(\"begin training!\")\n",
    "        for batch_num, (inputs, targets) in enumerate(self.loader):\n",
    "            epoch_loss += self.train_batch(inputs, targets)\n",
    "            print(\"batch: {}\".format(batch_num))\n",
    "        epoch_loss = epoch_loss / (batch_num + 1)\n",
    "        self.epochs += 1\n",
    "        print('[TRAIN]  Epoch [%d/%d]   Loss: %.4f' % (self.epochs + 1, self.max_epochs, epoch_loss))\n",
    "        self.train_losses.append(epoch_loss)\n",
    "\n",
    "    def train_batch(self, inputs, targets):\n",
    "        \"\"\" \n",
    "            TODO: Define code for training a single batch of inputs\n",
    "        \n",
    "        \"\"\"\n",
    "        print(\"train batch!\")\n",
    "        inputs = inputs.to(DEVICE)\n",
    "        targets = targets.to(DEVICE)\n",
    "        outputs = self.model(inputs)\n",
    "        loss = self.criterion(outputs.view(-1, outputs.size(2)), targets.view(-1))\n",
    "        self.optimizer.zero_grad()\n",
    "        loss.backward()\n",
    "        self.optimizer.step()\n",
    "        return loss\n",
    "\n",
    "    def test(self):\n",
    "        # don't change these\n",
    "        self.model.eval()  # set to eval mode\n",
    "        predictions = TestLanguageModel.prediction(fixtures_pred['inp'], self.model)  # get predictions\n",
    "        self.predictions.append(predictions)\n",
    "        generated_logits = TestLanguageModel.generation(fixtures_gen, 10, self.model)  # generated predictions for 10 words\n",
    "        generated_logits_test = TestLanguageModel.generation(fixtures_gen_test, 10, self.model)\n",
    "        \n",
    "        nll = test_prediction(predictions, fixtures_pred['out'])\n",
    "        generated = test_generation(fixtures_gen, generated_logits, vocab)\n",
    "        generated_test = test_generation(fixtures_gen_test, generated_logits_test, vocab)\n",
    "        self.val_losses.append(nll)\n",
    "        \n",
    "        self.generated.append(generated)\n",
    "        self.generated_test.append(generated_test)\n",
    "        self.generated_logits.append(generated_logits)\n",
    "        self.generated_logits_test.append(generated_logits_test)\n",
    "        \n",
    "        # generate predictions for test data\n",
    "        predictions_test = TestLanguageModel.prediction(fixtures_pred_test['inp'], self.model)  # get predictions\n",
    "        self.predictions_test.append(predictions_test)\n",
    "            \n",
    "        print('[VAL]  Epoch [%d/%d]   Loss: %.4f' % (self.epochs + 1, self.max_epochs, nll))\n",
    "        return nll\n",
    "\n",
    "    def save(self):\n",
    "        # don't change these\n",
    "        model_path = os.path.join('experiments', self.run_id, 'model-{}.pkl'.format(self.epochs))\n",
    "        torch.save({'state_dict': self.model.state_dict()}, model_path)\n",
    "        np.save(os.path.join('experiments', self.run_id, 'predictions-{}.npy'.format(self.epochs)), self.predictions[-1])\n",
    "        np.save(os.path.join('experiments', self.run_id, 'predictions-test-{}.npy'.format(self.epochs)), self.predictions_test[-1])\n",
    "        np.save(os.path.join('experiments', self.run_id, 'generated_logits-{}.npy'.format(self.epochs)), self.generated_logits[-1])\n",
    "        np.save(os.path.join('experiments', self.run_id, 'generated_logits-test-{}.npy'.format(self.epochs)), self.generated_logits_test[-1])\n",
    "        with open(os.path.join('experiments', self.run_id, 'generated-{}.txt'.format(self.epochs)), 'w') as fw:\n",
    "            fw.write(self.generated[-1])\n",
    "        with open(os.path.join('experiments', self.run_id, 'generated-{}-test.txt'.format(self.epochs)), 'w') as fw:\n",
    "            fw.write(self.generated_test[-1])\n"
   ]
  },
  {
   "cell_type": "code",
   "execution_count": 92,
   "metadata": {},
   "outputs": [],
   "source": [
    "class TestLanguageModel:\n",
    "    def prediction(inp, model):\n",
    "        \"\"\"\n",
    "            TODO: write prediction code here\n",
    "            \n",
    "            :param inp:\n",
    "            :return: a np.ndarray of logits\n",
    "        \"\"\"\n",
    "        inp = torch.from_numpy(inp).long().to(DEVICE)\n",
    "        outputs = model(inp)\n",
    "        return outputs[:, -1, :].cpu().detach().numpy()\n",
    "\n",
    "    def generation(inp, forward, model):\n",
    "        \"\"\"\n",
    "            TODO: write generation code here\n",
    "\n",
    "            Generate a sequence of words given a starting sequence.\n",
    "            :param inp: Initial sequence of words (batch size, length)\n",
    "            :param forward: number of additional words to generate\n",
    "            :return: generated words (batch size, forward)\n",
    "        \"\"\"\n",
    "        inp = torch.from_numpy(inp).long().to(DEVICE)\n",
    "        outputs = model(inp)\n",
    "        _, current_word = torch.max(outputs[:, -1, :], dim=1)\n",
    "        generated_words = torch.unsqueeze(current_word, 1)\n",
    "        _, outputs = torch.max(outputs, dim=2)\n",
    "        if forward > 1:\n",
    "            for i in range(forward - 1):\n",
    "                outputs = model(outputs)\n",
    "                _, current_word = torch.max(outputs[:, -1, :], dim=1)\n",
    "                current_word = torch.unsqueeze(current_word, 1)\n",
    "                generated_words = torch.cat((generated_words, current_word), dim=1)\n",
    "                _, outputs = torch.max(outputs, dim=2)\n",
    "        return generated_words.cpu().detach().numpy()"
   ]
  },
  {
   "cell_type": "code",
   "execution_count": 93,
   "metadata": {},
   "outputs": [],
   "source": [
    "# TODO: define other hyper-parameters here\n",
    "\n",
    "NUM_EPOCHS = 1\n",
    "BATCH_SIZE = 80\n",
    "DEVICE = torch.device('cuda' if torch.cuda.is_available() else 'cpu')\n"
   ]
  },
  {
   "cell_type": "code",
   "execution_count": 8,
   "metadata": {},
   "outputs": [
    {
     "name": "stdout",
     "output_type": "stream",
     "text": [
      "Saving models, predictions, and generated words to ./experiments/1554602389\n"
     ]
    }
   ],
   "source": [
    "run_id = str(int(time.time()))\n",
    "if not os.path.exists('./experiments'):\n",
    "    os.mkdir('./experiments')\n",
    "os.mkdir('./experiments/%s' % run_id)\n",
    "print(\"Saving models, predictions, and generated words to ./experiments/%s\" % run_id)"
   ]
  },
  {
   "cell_type": "code",
   "execution_count": 94,
   "metadata": {},
   "outputs": [],
   "source": [
    "model = LanguageModel(len(vocab))\n",
    "loader = LanguageModelDataLoader(dataset=dataset, batch_size=BATCH_SIZE, shuffle=True)\n",
    "trainer = LanguageModelTrainer(model=model, loader=loader, max_epochs=NUM_EPOCHS, run_id=run_id)"
   ]
  },
  {
   "cell_type": "code",
   "execution_count": 95,
   "metadata": {},
   "outputs": [
    {
     "name": "stdout",
     "output_type": "stream",
     "text": [
      "inp shape: (32, 20)\n"
     ]
    },
    {
     "name": "stdout",
     "output_type": "stream",
     "text": [
      "outputs shape: torch.Size([32, 33278])\ntorch.Size([32])\ntensor([31353, 31353, 31353, 31353, 31353, 31353, 31353, 31353, 31353, 31353,\n        31353, 31353, 31353, 31353, 31353, 31353, 31353, 31353, 31353, 31353,\n        31353, 31353, 31353, 31353, 31353, 31353, 31353, 31353, 31353, 31353,\n        31353, 31353])\ntorch.Size([32, 1])\ntorch.Size([32, 20])\n"
     ]
    },
    {
     "name": "stdout",
     "output_type": "stream",
     "text": [
      "inp shape: (128, 30)\n"
     ]
    },
    {
     "name": "stdout",
     "output_type": "stream",
     "text": [
      "outputs shape: torch.Size([128, 33278])\ntorch.Size([128])\ntensor([31353, 31353, 31353, 31353, 31353, 31353, 31353, 31353, 31353, 31353,\n        31353, 31353, 31353, 31353, 31353, 31353, 31353, 31353, 31353, 31353,\n        31353, 31353, 31353, 31353, 31353, 31353, 31353, 31353, 31353, 31353,\n        31353, 31353, 31353, 31353, 31353, 31353, 31353, 31353, 31353, 31353,\n        31353, 31353, 31353, 31353, 31353, 31353, 31353, 31353, 31353, 31353,\n        31353, 31353, 31353, 31353, 31353, 31353, 31353, 31353, 31353, 31353,\n        31353, 31353, 31353, 31353, 31353, 31353, 31353, 31353, 31353, 31353,\n        31353, 31353, 31353, 31353, 31353, 31353, 31353, 31353, 31353, 31353,\n        31353, 31353, 31353, 31353, 31353, 31353, 31353, 31353, 31353, 31353,\n        31353, 31353, 31353, 31353, 31353, 31353, 31353, 31353, 31353, 31353,\n        31353, 31353, 31353, 31353, 31353, 31353, 31353, 31353, 31353, 31353,\n        31353, 31353, 31353, 31353, 31353, 31353, 31353, 31353, 31353, 31353,\n        31353, 31353, 31353, 31353, 31353, 31353, 31353, 31353])\ntorch.Size([128, 1])\n"
     ]
    },
    {
     "name": "stdout",
     "output_type": "stream",
     "text": [
      "torch.Size([128, 30])\n"
     ]
    },
    {
     "name": "stdout",
     "output_type": "stream",
     "text": [
      "generated_logits shape: (32, 10)\n"
     ]
    },
    {
     "name": "stdout",
     "output_type": "stream",
     "text": [
      "[VAL]  Epoch [1/1]   Loss: 6.9268\nSaving model, predictions and generated output for epoch 0 with NLL: 6.926832\n"
     ]
    }
   ],
   "source": [
    "best_nll = 1e30 \n",
    "for epoch in range(NUM_EPOCHS):\n",
    "    # trainer.train()\n",
    "    model.load_state_dict(torch.load(\"experiments/checkpoint.pt\", map_location=\"cpu\")[\"state_dict\"])\n",
    "    model.to(DEVICE)\n",
    "    nll = trainer.test()\n",
    "    if nll < best_nll:\n",
    "        best_nll = nll\n",
    "        print(\"Saving model, predictions and generated output for epoch \" + str(epoch) + \" with NLL: \" + str(best_nll))\n",
    "        trainer.save()\n"
   ]
  },
  {
   "cell_type": "code",
   "execution_count": 21,
   "metadata": {},
   "outputs": [
    {
     "data": {
      "image/png": "[encoded data removed]",
      "text/plain": [
       "<Figure size 432x288 with 1 Axes>"
      ]
     },
     "metadata": {},
     "output_type": "display_data"
    }
   ],
   "source": [
    "# Don't change these\n",
    "# plot training curves\n",
    "plt.figure()\n",
    "plt.plot(range(1, trainer.epochs + 1), trainer.train_losses, label='Training losses')\n",
    "plt.plot(range(1, trainer.epochs + 1), trainer.val_losses, label='Validation losses')\n",
    "plt.xlabel('Epochs')\n",
    "plt.ylabel('NLL')\n",
    "plt.legend()\n",
    "plt.show()"
   ]
  },
  {
   "cell_type": "code",
   "execution_count": 29,
   "metadata": {},
   "outputs": [
    {
     "name": "stdout",
     "output_type": "stream",
     "text": [
      "Input | Output #0: while the group was en route , but only three were ultimately able to attack . None of them were | the\nInput | Output #1: <unk> , where he remained on loan until 30 June 2010 . <eol> = = = Return to Manchester United | the\nInput | Output #2: 25 April 2013 , denoting shipments of 500 @,@ 000 copies . <eol> The song became One Direction 's fourth | the\nInput | Output #3: , and Bruce R. ) one daughter ( Wendy J. <unk> ) and two grandchildren , died in <unk> , | the\nInput | Output #4: Warrior were examples of this type . Because their armor was so heavy , they could only carry a single | the\nInput | Output #5: the embassy at 1 : 49 and landed on Guam at 2 : 23 ; twenty minutes later , Ambassador | the\nInput | Output #6: <unk> , $ 96 million USD ) . Damage was heaviest in South Korea , notably where it moved ashore | the\nInput | Output #7: The <unk> were condemned as <unk> by <unk> , who saw the riots as hampering attempts to resolve the situation | the\nInput | Output #8: by a decision made by the War Office in mid @-@ 1941 , as it was considering the equipment to | the\nInput | Output #9: Division crossed the <unk> at a number of places and climbed the hills quietly toward the 9th Infantry river line | the\nInput | Output #10: = <eol> = = = French VIII . Corps ( Corps <unk> ) = = = <eol> On 6 November | the\nInput | Output #11: of the World from 9th Avenue \" . This is regarded as his most famous work . It is considered | the\nInput | Output #12: — <unk> @-@ 10 , <unk> @-@ 12 , <unk> @-@ 16 , <unk> @-@ 17 — were all converted | the\nInput | Output #13: And now he has . \" <eol> = = Family = = <eol> <unk> lived 37 of his years in | the\nInput | Output #14: Hell to which he has been condemned for <unk> . Eliot , in a letter to John <unk> dated 27 | the\nInput | Output #15: Luoyang area , fulfilling his duties in domestic affairs . <eol> In the autumn of <unk> , he met Li | the\nInput | Output #16: Power said they enjoyed Block Ball and its number of stages , but wondered how its eight <unk> of memory | the\nInput | Output #17: by Lloyd F. Lonergan . The cameraman was Jacques <unk> . <eol> = = Release and reception = = <eol> | the\nInput | Output #18: alone , the Austrians lost more than half their reserve artillery park , 6 @,@ 000 ( out of 8 | the\nInput | Output #19: while attacking a ship at <unk> in the Dutch East Indies ; the loss was compounded by the fact that | the\nInput | Output #20: first raised in 2007 by the member of parliament ( MP ) for <unk> . The gangsters may have run | the\nInput | Output #21: Species are also non @-@ spiny <unk> and includes both large trees with stout stems up to 30 metres ( | the\nInput | Output #22: \" : specific design issues with the building 's energy efficiency included the fact that the largest room in the | the\nInput | Output #23: were reported to support over 300 @,@ 000 households in the Brazilian state of <unk> in 2005 , and in | the\nInput | Output #24: port . <unk> in Vietnam also warned for the potential of heavy rainfall due to the dissipating Tropical Depression <unk> | the\nInput | Output #25: T @-@ numbers in their tropical cyclone products . The following example is from discussion number 3 of Tropical Depression | the\nInput | Output #26: South Australia hosted the three @-@ game semi @-@ final series against the New South Wales <unk> . Both teams | the\nInput | Output #27: Perth from contention and secured the last finals spot for the <unk> . <eol> = = = Statistical leaders = | the\nInput | Output #28: deemed it an \" amazing pop song \" , lauding the group 's falsetto and its \" head @-@ <unk> | the\nInput | Output #29: , but began patrolling the English Channel after <unk> @-@ 6 pioneered a route past British <unk> nets and mines | the\nInput | Output #30: production executives to let him direct . He had already discussed the film with <unk> and Cohen , and felt | the\nInput | Output #31: and Nick <unk> at Studio <unk> in Los Angeles , California , and was released on August 1 , 2006 | the\n\n"
     ]
    }
   ],
   "source": [
    "# see generated output\n",
    "print(trainer.generated[-1])  # get last generated output"
   ]
  },
  {
   "cell_type": "code",
   "execution_count": null,
   "metadata": {},
   "outputs": [],
   "source": []
  }
 ],
 "metadata": {
  "kernelspec": {
   "display_name": "Python 3",
   "language": "python",
   "name": "python3"
  },
  "language_info": {
   "codemirror_mode": {
    "name": "ipython",
    "version": 3
   },
   "file_extension": ".py",
   "mimetype": "text/x-python",
   "name": "python",
   "nbconvert_exporter": "python",
   "pygments_lexer": "ipython3",
   "version": "3.6.8"
  }
 },
 "nbformat": 4,
 "nbformat_minor": 2
}
