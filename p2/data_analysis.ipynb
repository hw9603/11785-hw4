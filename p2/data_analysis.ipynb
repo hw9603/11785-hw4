{
 "cells": [
  {
   "cell_type": "code",
   "execution_count": 1,
   "metadata": {},
   "outputs": [
    {
     "data": {
      "text/plain": [
       "'/Users/hewen/Stuffs/Spring2019/11785/hw4/p1/hw4'"
      ]
     },
     "execution_count": 1,
     "metadata": {},
     "output_type": "execute_result"
    }
   ],
   "source": [
    "import numpy as np\n",
    "import os\n",
    "os.getcwd()"
   ]
  },
  {
   "cell_type": "code",
   "execution_count": 3,
   "metadata": {},
   "outputs": [],
   "source": [
    "transcript_set = np.load(\"/Users/hewen/Stuffs/Spring2019/11785/hw4/p2/data/train_transcripts.npy\", encoding='bytes')"
   ]
  },
  {
   "cell_type": "code",
   "execution_count": 22,
   "metadata": {},
   "outputs": [
    {
     "name": "stdout",
     "output_type": "stream",
     "text": [
      "(24724,)\n(14,)\n[b'THE' b'FEMALE' b'PRODUCES' b'A' b'LITTER' b'OF' b'TWO' b'TO' b'FOUR'\n b'YOUNG' b'IN' b'NOVEMBER' b'AND' b'DECEMBER']\n[25, 13, 10, 11, 10, 18, 6, 17, 10, 21, 23, 20, 9, 26, 8, 10, 24, 6, 17, 14, 25, 25, 10, 23, 20, 11, 25, 28, 20, 25, 20, 11, 20, 26, 23, 30, 20, 26, 19, 12, 14, 19, 19, 20, 27, 10, 18, 7, 10, 23, 6, 19, 9, 9, 10, 8, 10, 18, 7, 10, 23]\n"
     ]
    }
   ],
   "source": [
    "print(transcript_set.shape)\n",
    "print(transcript_set[0].shape)\n",
    "print(transcript_set[0])\n",
    "chr2idx = {'<eos>': 0, ' ': 1, \"'\": 2, '+': 3, '-': 4, '.': 5, 'A': 6, 'B': 7, 'C': 8, 'D': 9, 'E': 10, 'F': 11, 'G': 12, 'H': 13, 'I': 14, 'J': 15, 'K': 16, 'L': 17, 'M': 18, 'N': 19, 'O': 20, 'P': 21, 'Q': 22, 'R': 23, 'S': 24, 'T': 25, 'U': 26, 'V': 27, 'W': 28, 'X': 29, 'Y': 30, 'Z': 31, '_': 32}\n",
    "# labels = [chr2idx[c] for c in [word for word in transcript_set[0]]]\n",
    "labels = []\n",
    "for word in transcript_set[0]:\n",
    "    for c in word:\n",
    "        labels.append(chr2idx[chr(c)])\n",
    "print(labels)"
   ]
  },
  {
   "cell_type": "code",
   "execution_count": null,
   "metadata": {},
   "outputs": [
    {
     "name": "stdout",
     "output_type": "stream",
     "text": [
      "(24724,)\n(14,)\n[b'THE' b'FEMALE' b'PRODUCES' b'A' b'LITTER' b'OF' b'TWO' b'TO' b'FOUR'\n b'YOUNG' b'IN' b'NOVEMBER' b'AND' b'DECEMBER']\n[25, 13, 10, 11, 10, 18, 6, 17, 10, 21, 23, 20, 9, 26, 8, 10, 24, 6, 17, 14, 25, 25, 10, 23, 20, 11, 25, 28, 20, 25, 20, 11, 20, 26, 23, 30, 20, 26, 19, 12, 14, 19, 19, 20, 27, 10, 18, 7, 10, 23, 6, 19, 9, 9, 10, 8, 10, 18, 7, 10, 23]\n"
     ]
    }
   ],
   "source": [
    "char_set = []\n",
    "for sent in transcript_set:\n",
    "    for word in sent:\n",
    "        for char in word:\n",
    "            if chr(char) not in char_set:\n",
    "                char_set.append(chr(char))\n",
    "char_set.sort()\n",
    "print(char_set)\n",
    "print(len(char_set))"
   ]
  },
  {
   "cell_type": "code",
   "execution_count": null,
   "metadata": {},
   "outputs": [],
   "source": []
  }
 ],
 "metadata": {},
 "nbformat": 4,
 "nbformat_minor": 0
}
